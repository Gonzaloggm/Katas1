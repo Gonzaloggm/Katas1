{
 "cells": [
  {
   "cell_type": "code",
   "execution_count": 4,
   "metadata": {},
   "outputs": [
    {
     "name": "stdout",
     "output_type": "stream",
     "text": [
      "La fecha de hoy es:\n",
      "2022-02-14\n",
      "Today's date is: 2022-02-14\n",
      "Hola, g\n",
      "23 Parsecs son igual a  75.01588 años luz\n"
     ]
    }
   ],
   "source": [
    "\n",
    "#Fecha: importar biblioteca\n",
    "from datetime import date\n",
    "#Obtener fecha\n",
    "date.today\n",
    "#mostrar fecha\n",
    "print (\"La fecha de hoy es:\")\n",
    "print(date.today())\n",
    "\n",
    "# Convertir formatos: str(date.today)\n",
    "print(\"Today's date is: \"+str(date.today()))\n",
    "\n",
    "# Introducir datos texto\n",
    "\n",
    "nombre = input(\"Introducir nombre\")\n",
    "print(\"Hola, \" + nombre)\n",
    "\n",
    "\n",
    "# Hacer suma: es importante convertir los datos a INT \n",
    "parsecs = input(\"Introduce numero de Parsecs: \")\n",
    "lightyears= int(parsecs)*3.26156\n",
    "\n",
    "print(parsecs,\"Parsecs son igual a \",lightyears, \"años luz\")\n",
    "\n"
   ]
  }
 ],
 "metadata": {
  "interpreter": {
   "hash": "916dbcbb3f70747c44a77c7bcd40155683ae19c65e1c03b4aa3499c5328201f1"
  },
  "kernelspec": {
   "display_name": "Python 3.8.10 64-bit",
   "language": "python",
   "name": "python3"
  },
  "language_info": {
   "codemirror_mode": {
    "name": "ipython",
    "version": 3
   },
   "file_extension": ".py",
   "mimetype": "text/x-python",
   "name": "python",
   "nbconvert_exporter": "python",
   "pygments_lexer": "ipython3",
   "version": "3.8.10"
  },
  "orig_nbformat": 4
 },
 "nbformat": 4,
 "nbformat_minor": 2
}
